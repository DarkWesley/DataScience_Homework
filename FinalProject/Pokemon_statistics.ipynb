{
 "cells": [
  {
   "cell_type": "code",
   "execution_count": null,
   "id": "c4dd3f40",
   "metadata": {},
   "outputs": [],
   "source": [
    "import pandas as pd\n",
    "import numpy as np\n",
    "import seaborn as sns\n",
    "import matplotlib.pyplot as plt\n",
    "import scipy as sp\n",
    "from scipy.stats import chi2\n",
    "from math import floor\n",
    "from sklearn.model_selection import train_test_split, KFold, cross_val_score, cross_validate\n",
    "from sklearn.linear_model import LinearRegression\n",
    "from sklearn.decomposition import PCA\n",
    "from sklearn import metrics\n",
    "%matplotlib inline\n",
    "sns.set(rc={'axes.edgecolor':'gray', \n",
    "            'axes.labelcolor': 'gray', \n",
    "            'xtick.color': 'gray', \n",
    "            'ytick.color': 'gray', \n",
    "            'text.color': 'gray',\n",
    "            'figure.figsize': (20, 10), \n",
    "            'legend.fontsize': 12, \n",
    "            'font.size': 12, \n",
    "            'legend.title_fontsize': 14, \n",
    "            'axes.labelsize': 14,\n",
    "            'axes.titlesize': 24}, \n",
    "        style='white')\n",
    "color_dict = {\"normal\":\"#A8AA79\",\n",
    "              \"fire\":\"#EF812E\",\n",
    "              \"water\":\"#6991F0\",\n",
    "              \"grass\":\"#7AC852\",\n",
    "              \"electric\":\"#F6D030\",\n",
    "              \"ice\":\"#9AD7D9\",\n",
    "              \"fighting\":\"#C12F27\",\n",
    "              \"poison\":\"#A0429F\",\n",
    "              \"ground\":\"#BCA23B\",\n",
    "              \"flying\":\"#A991F0\",\n",
    "              \"psychic\":\"#F85887\",\n",
    "              \"bug\":\"#A7B822\",\n",
    "              \"rock\":\"#B99F38\",\n",
    "              \"ghost\":\"#6D5947\",\n",
    "              \"dark\":\"#70589A\",\n",
    "              \"dragon\":\"#6B3EE3\",\n",
    "              \"steel\":\"#B6B8D0\",\n",
    "              \"fairy\":\"#FF65D5\"\n",
    "             }"
   ]
  },
  {
   "cell_type": "code",
   "execution_count": null,
   "id": "de6ca663",
   "metadata": {
    "is_executing": true
   },
   "outputs": [],
   "source": [
    "fulldata = pd.read_csv('DataSets/pokemon_comp.csv')\n",
    "col_against = fulldata.loc[:,fulldata.columns.str.contains('against_')]\n",
    "df = fulldata.drop(col_against, axis=1)\n",
    "df.rename(columns={'classfication':'classification'},inplace=True)\n",
    "# df\n",
    "df.shape"
   ]
  },
  {
   "cell_type": "markdown",
   "metadata": {},
   "source": [
    "## 1. Is a PokeMon Legendary?"
   ]
  },
  {
   "cell_type": "code",
   "execution_count": null,
   "id": "47a683299b69afa1",
   "metadata": {
    "collapsed": false
   },
   "outputs": [],
   "source": [
    "for index, row in df.iterrows():\n",
    "    if row['is_legendary'] == 1:\n",
    "        print(row['name'])"
   ]
  },
  {
   "cell_type": "code",
   "execution_count": null,
   "metadata": {},
   "outputs": [],
   "source": [
    "df['capture_rate'] = df['capture_rate'].str.extract('(\\d+)').astype(float)\n",
    "print(df.columns)\n"
   ]
  },
  {
   "cell_type": "code",
   "execution_count": null,
   "metadata": {},
   "outputs": [],
   "source": [
    "legend = df[['is_legendary','hp','attack','defense','sp_attack','sp_defense','speed','base_total','experience_growth','capture_rate','base_happiness','base_egg_steps','base_total','percentage_male']]\n",
    "# Create a figure and plot the correlation heatmap\n",
    "plt.figure(figsize=(12, 10))\n",
    "cor = legend.corr()\n",
    "sns.heatmap(cor, annot=True, cmap=plt.cm.CMRmap_r)\n",
    "plt.show()"
   ]
  },
  {
   "cell_type": "code",
   "execution_count": null,
   "metadata": {},
   "outputs": [],
   "source": [
    "digit_data = df.drop(labels=['abilities','classification','japanese_name','name','type1','type2','percentage_male','generation'],axis=1)\n",
    "digit_data = digit_data.fillna(digit_data.mean())\n",
    "# digit_data"
   ]
  },
  {
   "cell_type": "markdown",
   "metadata": {},
   "source": [
    "## 2. \"Shape\" and Base Status Relationship"
   ]
  },
  {
   "cell_type": "code",
   "execution_count": null,
   "metadata": {},
   "outputs": [],
   "source": [
    "df = fulldata[[\"name\",\"type1\",\"type2\",\"weight_kg\",\"height_m\",\"hp\",\"attack\",\"defense\",\"sp_attack\",\"sp_defense\",\"speed\",\"base_total\",\"is_legendary\"]].copy()\n",
    "df.info()"
   ]
  },
  {
   "cell_type": "code",
   "execution_count": null,
   "metadata": {},
   "outputs": [],
   "source": [
    "missing_weight = df[df[\"weight_kg\"].isna()]\n",
    "missing_height = df[df[\"height_m\"].isna()]\n",
    "missing_weight\n",
    "# missing_height"
   ]
  },
  {
   "cell_type": "code",
   "execution_count": null,
   "metadata": {},
   "outputs": [],
   "source": [
    "def dfix(index_no, type2, weight, height):\n",
    "    df.loc[index_no, \"type2\"] = type2\n",
    "    df.loc[index_no, \"weight_kg\"] = weight\n",
    "    df.loc[index_no, \"height_m\"] = height\n",
    "    return 0\n",
    "\n",
    "dfix(18, np.nan, 3.5, 0.3)    \n",
    "dfix(19, np.nan, 18.5, 0.7)   \n",
    "dfix(25, np.nan, 30, 0.8)     \n",
    "dfix(26, np.nan, 12, 0.6)     \n",
    "dfix(27, np.nan, 29.5, 1)   \n",
    "dfix(36, np.nan, 9.9, 0.6)    \n",
    "dfix(37, np.nan, 19.9, 1.1)   \n",
    "dfix(49, np.nan, 0.8, 0.2)    \n",
    "dfix(50, np.nan, 33.3, 0.7)  \n",
    "dfix(51, np.nan, 4.2, 0.4)   \n",
    "dfix(52, np.nan, 32, 1)   \n",
    "dfix(73, \"ground\", 20, 0.4)   \n",
    "dfix(74, \"ground\", 105, 1)  \n",
    "dfix(75, \"ground\", 300, 1.4)  \n",
    "dfix(87, np.nan, 30, 0.9)     \n",
    "dfix(88, np.nan, 30, 1.2)     \n",
    "dfix(102, \"psychic\", 120, 2)\n",
    "dfix(104, np.nan, 45, 1)    \n",
    "dfix(491, np.nan, 2.1, 0.2)   \n",
    "dfix(554, np.nan, 92.9, 1.3)  \n",
    "dfix(719, \"dark\", 490, 6.5)   \n",
    "dfix(744, np.nan, 25, 0.8)    \n",
    "\n",
    "df[df[\"name\"].isin(missing_weight[\"name\"])]"
   ]
  },
  {
   "cell_type": "code",
   "execution_count": null,
   "metadata": {},
   "outputs": [],
   "source": [
    "type_list = pd.Series(color_dict.keys())\n",
    "for i in type_list:\n",
    "    df[i] = 0\n",
    "\n",
    "for i in range(0,len(df)):\n",
    "    type1_to_add = df.loc[i, \"type1\"]\n",
    "    df.loc[i, type1_to_add] = 1\n",
    "    type2_to_add = df.loc[i, \"type2\"]\n",
    "    if type2_to_add is not np.nan:\n",
    "        df.loc[i, type2_to_add] = 1\n",
    "\n",
    "g = sns.scatterplot(x=\"weight_kg\",y=\"hp\",data=df,hue=\"type1\",legend=\"full\",palette=color_dict)\n",
    "g.set_title(\"Pokemon by Weight and Base HP\")"
   ]
  },
  {
   "cell_type": "code",
   "execution_count": null,
   "metadata": {},
   "outputs": [],
   "source": [
    "a = round(df[\"weight_kg\"].corr(df[\"hp\"]),3)\n",
    "print(\"The correlation coefficient between height and base HP for all pokemon is \"+ str(a))"
   ]
  },
  {
   "cell_type": "markdown",
   "metadata": {},
   "source": [
    "### 加权"
   ]
  },
  {
   "cell_type": "code",
   "execution_count": null,
   "metadata": {},
   "outputs": [],
   "source": [
    "df_type = pd.DataFrame(columns=[\"type\", \"corr_coef\"])\n",
    "for i in range(0,len(type_list)):\n",
    "    value_to_add = df.groupby(type_list[i])[[\"weight_kg\",\"hp\"]].corr().loc[1,\"hp\"][\"weight_kg\"]\n",
    "    df_type.loc[len(df_type.index)] = [type_list[i],value_to_add]\n",
    "    \n",
    "df_type.set_index(\"type\", inplace=True)\n",
    "round(df_type.sort_values(by=\"corr_coef\", ascending=False),3)"
   ]
  },
  {
   "cell_type": "code",
   "execution_count": null,
   "metadata": {},
   "outputs": [],
   "source": [
    "for i in range(0, len(type_list)):\n",
    "    df_type.loc[type_list[i],\"type_count\"] = (sum(df.loc[:,type_list[i]]))\n",
    "\n",
    "df_type[\"type_count\"].sort_values(ascending=False)"
   ]
  },
  {
   "cell_type": "code",
   "execution_count": null,
   "metadata": {},
   "outputs": [],
   "source": [
    "b = 0\n",
    "for i in range(0, len(type_list)):\n",
    "    b = b + df_type.loc[type_list[i],\"corr_coef\"]* df_type.loc[type_list[i],\"type_count\"]\n",
    "\n",
    "b = round(b/sum(df_type.loc[:,\"type_count\"]),3)\n",
    "print(\"The weighted average correlation coefficient of all types of pokemon using weights equal to the number of pokemon with that type is \"+ str(b))\n",
    "print(\"This exceeds the unweighted average by \" + str(round((b-a),3)))"
   ]
  },
  {
   "cell_type": "code",
   "execution_count": null,
   "metadata": {},
   "outputs": [],
   "source": [
    "filtered_data = []\n",
    "for i in range(0, len(type_list)):\n",
    "    filtered_data.append(df[df[type_list[i]] == 1])\n",
    "    df_type.loc[type_list[i], \"weight_mean\"] = (filtered_data[i])[\"weight_kg\"].mean()\n",
    "    df_type.loc[type_list[i], \"weight_stdev\"] = (filtered_data[i])[\"weight_kg\"].std()\n",
    "round(df_type[[\"weight_mean\", \"weight_stdev\"]].sort_values(by=\"weight_mean\", ascending=False),2)"
   ]
  },
  {
   "cell_type": "code",
   "execution_count": null,
   "metadata": {},
   "outputs": [],
   "source": [
    "for i in range(0, len(type_list)):\n",
    "    df_type.loc[type_list[i], \"hp_mean\"] = (filtered_data[i])[\"hp\"].mean()\n",
    "    df_type.loc[type_list[i], \"hp_stdev\"] = (filtered_data[i])[\"hp\"].std()\n",
    "round(df_type[[\"hp_mean\", \"hp_stdev\"]].sort_values(by=\"hp_mean\", ascending=False),2)"
   ]
  },
  {
   "cell_type": "code",
   "execution_count": null,
   "metadata": {},
   "outputs": [],
   "source": [
    "g = sns.barplot(y=\"weight_mean\", data=df_type.sort_values(by=\"weight_mean\",ascending=False), x= df_type.sort_values(by=\"weight_mean\",ascending=False).index, palette=color_dict)\n",
    "g.set_title(\"Average Pokemon Weight by Type\")"
   ]
  },
  {
   "cell_type": "code",
   "execution_count": null,
   "metadata": {},
   "outputs": [],
   "source": [
    "g = sns.boxplot(data = df, x = \"type1\", y = \"weight_kg\", palette = color_dict, showfliers=False)\n",
    "g.set_title(\"Pokemon Weights by Primary Type\")"
   ]
  },
  {
   "cell_type": "code",
   "execution_count": null,
   "metadata": {},
   "outputs": [],
   "source": [
    "g = sns.lmplot(x=\"corr_coef\",y=\"type_count\",data=df_type, legend=False, height=10, aspect=2, scatter_kws={\"s\":10*df_type[\"type_count\"], \"color\":list(color_dict.values())}, line_kws={\"linewidth\":8,\"color\":\"purple\"})\n",
    "g.fig.suptitle(\"Correlation Coefficients vs. Number of Pokemon of that Type\", fontsize=40, y=1.05)"
   ]
  },
  {
   "cell_type": "code",
   "execution_count": null,
   "metadata": {},
   "outputs": [],
   "source": [
    "fig, ((ax0, ax1, ax2, ax3, ax4, ax5),(ax6, ax7, ax8, ax9, ax10, ax11), (ax12, ax13, ax14, ax15, ax16, ax17)) = plt.subplots(3, 6)\n",
    "g = ((ax0, ax1, ax2, ax3, ax4, ax5),(ax6, ax7, ax8, ax9, ax10, ax11), (ax12, ax13, ax14, ax15, ax16, ax17))\n",
    "for i in range(0,len(type_list)):\n",
    "    sns.histplot(data=filtered_data[i], x=\"hp\", ax=g[floor(i/6)][i % 6], color= list(color_dict.values())[i], binrange=[0,255], bins=13).set(title=list(color_dict.keys())[i])\n",
    "fig.tight_layout()\n",
    "fig.suptitle(\"Distribution of Base HP by Type\", fontsize=50, y = 1.1)"
   ]
  },
  {
   "cell_type": "markdown",
   "metadata": {},
   "source": [
    "### 去除异常值"
   ]
  },
  {
   "cell_type": "code",
   "execution_count": null,
   "metadata": {},
   "outputs": [],
   "source": [
    "uni_outliers_by_type = pd.DataFrame(columns=[\"outlier_count\"])\n",
    "\n",
    "for i in range(0, len(type_list)):\n",
    "    value_to_add = ((df.sort_values(by=\"weight_kg\", ascending=False).head(30))[type_list[i]]).sum()\n",
    "    uni_outliers_by_type.loc[type_list[i],\"outlier_count\"] = value_to_add   \n",
    "    \n",
    "uni_outliers_by_type.sort_values(by=\"outlier_count\", ascending=False)"
   ]
  },
  {
   "cell_type": "code",
   "execution_count": null,
   "metadata": {},
   "outputs": [],
   "source": [
    "def maha(x=None, data=None, cov=None):\n",
    "    x_minus_mu = x - data.mean()\n",
    "    cova = np.cov(data.values.T)\n",
    "    inv_covmat = sp.linalg.inv(cova)\n",
    "    left = np.dot(x_minus_mu, inv_covmat)\n",
    "    mahal = np.dot(left, x_minus_mu.T)\n",
    "    return mahal.diagonal()"
   ]
  },
  {
   "cell_type": "code",
   "execution_count": null,
   "metadata": {},
   "outputs": [],
   "source": [
    "for i in range(0, len(type_list)):\n",
    "    df_x = filtered_data[i][[\"weight_kg\", \"hp\"]]\n",
    "    df_x.loc[df_x.index,\"mahala\"] = maha(x=df_x, data=df_x)\n",
    "    filtered_data[i] = pd.merge(filtered_data[i], df_x[\"mahala\"], left_index=True, right_index=True)\n",
    "    filtered_data[i][\"p_value\"] = 1 - chi2.cdf(filtered_data[i][\"mahala\"], 1)"
   ]
  },
  {
   "cell_type": "code",
   "execution_count": null,
   "metadata": {},
   "outputs": [],
   "source": [
    "bivar_outliers = pd.DataFrame(columns= list(filtered_data[0].columns))\n",
    "for i in range(0, len(type_list)):\n",
    "    out_to_add = filtered_data[i][filtered_data[i][\"p_value\"] < .001]\n",
    "    bivar_outliers = pd.concat([bivar_outliers, out_to_add])\n"
   ]
  },
  {
   "cell_type": "code",
   "execution_count": null,
   "metadata": {},
   "outputs": [],
   "source": [
    "outlier_dupes = bivar_outliers[bivar_outliers.duplicated(subset=[\"name\"],keep=\"first\")]\n",
    "bivar_outliers = bivar_outliers[bivar_outliers[\"type2\"].isna()]\n",
    "bivar_outliers = pd.concat([bivar_outliers, outlier_dupes])\n",
    "bivar_outliers.sort_values(by=\"name\")"
   ]
  },
  {
   "cell_type": "code",
   "execution_count": null,
   "metadata": {},
   "outputs": [],
   "source": [
    "df_no_out = df[~df[\"name\"].isin(bivar_outliers[\"name\"])]\n",
    "sns.scatterplot(x=\"weight_kg\",y=\"hp\",data=df_no_out,color=\"#152558\").set_title(\"Pokemon by Weight and Base HP, Outliers Highlighted in Red\")\n",
    "sns.scatterplot(x=\"weight_kg\",y=\"hp\",data=bivar_outliers,color=\"#F82517\")"
   ]
  },
  {
   "cell_type": "markdown",
   "metadata": {},
   "source": [
    "### 再计算"
   ]
  },
  {
   "cell_type": "code",
   "execution_count": null,
   "metadata": {},
   "outputs": [],
   "source": [
    "df_type_no_out = pd.DataFrame(columns=[\"type\", \"corr_coef\"])\n",
    "for i in range(0,len(type_list)):\n",
    "    value_to_add = df_no_out.groupby(type_list[i])[[\"weight_kg\",\"hp\"]].corr().loc[1,\"hp\"][\"weight_kg\"]\n",
    "    df_type_no_out.loc[len(df_type_no_out.index)] = [type_list[i],value_to_add]\n",
    "    \n",
    "df_type_no_out.set_index(\"type\", inplace=True)"
   ]
  },
  {
   "cell_type": "code",
   "execution_count": null,
   "metadata": {},
   "outputs": [],
   "source": [
    "filtered_data_no_out = []\n",
    "for i in range(0, len(type_list)):\n",
    "    df_type_no_out.loc[type_list[i],\"type_count\"] = (sum(df_no_out.loc[:,type_list[i]]))\n",
    "    filtered_data_no_out.append(df_no_out[df_no_out[type_list[i]] == 1])\n",
    "    df_type_no_out.loc[type_list[i], \"weight_mean\"] = (filtered_data_no_out[i])[\"weight_kg\"].mean()\n",
    "    df_type_no_out.loc[type_list[i], \"weight_stdev\"] = (filtered_data_no_out[i])[\"weight_kg\"].std()\n",
    "    df_type_no_out.loc[type_list[i], \"hp_mean\"] = (filtered_data_no_out[i])[\"hp\"].mean()\n",
    "    df_type_no_out.loc[type_list[i], \"hp_stdev\"] = (filtered_data_no_out[i])[\"hp\"].std()"
   ]
  },
  {
   "cell_type": "code",
   "execution_count": null,
   "metadata": {},
   "outputs": [],
   "source": [
    "d = pd.merge(df_type, df_type_no_out, left_index=True, right_index=True)\n",
    "d.rename({\"corr_coef_x\":\"corr_coef_old\",\"type_count_x\":\"type_count_old\",\"weight_mean_x\":\"weight_mean_old\",\"weight_stdev_x\":\"weight_stdev_old\",\"hp_mean_x\":\"hp_mean_old\",\"hp_stdev_x\":\"hp_stdev_old\",\"corr_coef_y\":\"corr_coef_new\",\"type_count_y\":\"type_count_new\",\"weight_mean_y\":\"weight_mean_new\",\"weight_stdev_y\":\"weight_stdev_new\",\"hp_mean_y\":\"hp_mean_new\",\"hp_stdev_y\":\"hp_stdev_new\"}, inplace=True, axis=1)"
   ]
  },
  {
   "cell_type": "code",
   "execution_count": null,
   "metadata": {},
   "outputs": [],
   "source": [
    "d[\"corr_coef_Δ\"] = d[\"corr_coef_new\"] - d[\"corr_coef_old\"]\n",
    "d[\"corr_coef_%_Δ\"] = round((d[\"corr_coef_Δ\"]/d[\"corr_coef_old\"]*100),1)\n",
    "round(d[[\"corr_coef_new\",\"corr_coef_old\",\"corr_coef_Δ\",\"corr_coef_%_Δ\"]].sort_values(by=\"corr_coef_new\", ascending=False),3)"
   ]
  },
  {
   "cell_type": "code",
   "execution_count": null,
   "metadata": {},
   "outputs": [],
   "source": [
    "d[\"type_count_Δ\"] = d[\"type_count_new\"] - d[\"type_count_old\"]\n",
    "d[\"type_count_%_Δ\"] = round((d[\"type_count_Δ\"]/d[\"type_count_old\"]*100),1)\n",
    "d[[\"type_count_new\",\"type_count_old\",\"type_count_Δ\",\"type_count_%_Δ\"]].sort_values(by=\"type_count_new\", ascending=False)"
   ]
  },
  {
   "cell_type": "code",
   "execution_count": null,
   "metadata": {},
   "outputs": [],
   "source": [
    "d[\"weight_mean_Δ\"] = d[\"weight_mean_new\"] - d[\"weight_mean_old\"]\n",
    "d[\"weight_mean_%_Δ\"] = round((d[\"weight_mean_Δ\"]/d[\"weight_mean_old\"]*100),1)\n",
    "d[\"weight_stdev_Δ\"] = d[\"weight_stdev_new\"] - d[\"weight_stdev_old\"]\n",
    "d[\"weight_stdev_%_Δ\"] = round((d[\"weight_stdev_Δ\"]/d[\"weight_stdev_old\"]*100),1)\n",
    "round(d[[\"weight_mean_new\",\"weight_mean_old\",\"weight_mean_Δ\",\"weight_mean_%_Δ\",\"weight_stdev_new\",\"weight_stdev_old\",\"weight_stdev_Δ\",\"weight_stdev_%_Δ\"]].sort_values(by=\"weight_mean_new\", ascending=False),2)"
   ]
  },
  {
   "cell_type": "code",
   "execution_count": null,
   "metadata": {},
   "outputs": [],
   "source": [
    "g = sns.lmplot(x=\"corr_coef\",y=\"type_count\",data=df_type_no_out, legend=False, height=10, aspect=2, scatter_kws={\"s\":10*df_type_no_out[\"type_count\"], \"color\":list(color_dict.values())}, line_kws={\"linewidth\":8,\"color\":\"purple\"})\n",
    "g.fig.suptitle(\"Correlation Coefficients vs. Number of Pokemon of that Type (Outliers Removed)\", fontsize=40, y=1.05)"
   ]
  },
  {
   "cell_type": "code",
   "execution_count": null,
   "metadata": {},
   "outputs": [],
   "source": [
    "g = sns.lmplot(x=\"corr_coef\",y=\"weight_mean\",data=df_type_no_out, legend=False, height=10, aspect=2, scatter_kws={\"s\":10*df_type_no_out[\"type_count\"], \"color\":list(color_dict.values())}, line_kws={\"linewidth\":8,\"color\":\"purple\"})\n",
    "g.fig.suptitle(\"Correlation Coefficients vs. Average Weight of Pokemon of that Type (Outliers Removed)\", fontsize=40, y=1.05)"
   ]
  },
  {
   "cell_type": "code",
   "execution_count": null,
   "metadata": {},
   "outputs": [],
   "source": [
    "fig, ((ax0, ax1, ax2, ax3, ax4, ax5),(ax6, ax7, ax8, ax9, ax10, ax11), (ax12, ax13, ax14, ax15, ax16, ax17)) = plt.subplots(3, 6)\n",
    "g = ((ax0, ax1, ax2, ax3, ax4, ax5),(ax6, ax7, ax8, ax9, ax10, ax11), (ax12, ax13, ax14, ax15, ax16, ax17))\n",
    "for i in range(0,len(type_list)):\n",
    "    sns.histplot(data=filtered_data_no_out[i], x=\"hp\", ax=g[floor(i/6)][i % 6], color= list(color_dict.values())[i], binrange=[0,255], bins=13).set(title=list(color_dict.keys())[i])\n",
    "fig.tight_layout()\n",
    "fig.suptitle(\"Distribution of Base HP by Type (Outliers Removed)\", fontsize=50, y = 1.1)"
   ]
  },
  {
   "cell_type": "code",
   "execution_count": null,
   "metadata": {},
   "outputs": [],
   "source": [
    "d[\"hp_mean_Δ\"] = d[\"hp_mean_new\"] - d[\"hp_mean_old\"]\n",
    "d[\"hp_mean_%_Δ\"] = round((d[\"hp_mean_Δ\"]/d[\"hp_mean_old\"]*100),1)\n",
    "d[\"hp_stdev_Δ\"] = d[\"hp_stdev_new\"] - d[\"hp_stdev_old\"]\n",
    "d[\"hp_stdev_%_Δ\"] = round((d[\"hp_stdev_Δ\"]/d[\"hp_stdev_old\"]*100),1)\n",
    "round(d[[\"hp_mean_new\",\"hp_mean_old\",\"hp_mean_Δ\",\"hp_mean_%_Δ\",\"hp_stdev_new\",\"hp_stdev_old\",\"hp_stdev_Δ\",\"hp_stdev_%_Δ\"]].sort_values(by=\"hp_mean_new\", ascending=False),2)"
   ]
  },
  {
   "cell_type": "markdown",
   "metadata": {},
   "source": [
    "### 线性回归"
   ]
  },
  {
   "cell_type": "code",
   "execution_count": null,
   "metadata": {},
   "outputs": [],
   "source": [
    "X = df_no_out[[\"weight_kg\",\"normal\",\"fire\",\"water\",\"grass\",\"electric\",\"ice\",\"fighting\",\"poison\",\"ground\",\"flying\",\"psychic\",\"bug\",\"rock\",\"ghost\",\"dark\",\"dragon\",\"steel\",\"fairy\"]]\n",
    "y = df_no_out[\"hp\"]\n",
    "kf = KFold(n_splits=10, shuffle=True, random_state=135)\n",
    "cv_scores = cross_val_score(LinearRegression(), X=X, y=y, cv=kf, scoring=\"r2\")\n",
    "cv_results = cross_validate(LinearRegression(), X=X, y=y, cv=kf, return_estimator=True)\n",
    "cv_coefs = []\n",
    "cv_intercepts = []\n",
    "for model in cv_results[\"estimator\"]:\n",
    "    cv_coefs.append(model.coef_)\n",
    "    cv_intercepts.append(model.intercept_)"
   ]
  },
  {
   "cell_type": "code",
   "execution_count": null,
   "metadata": {},
   "outputs": [],
   "source": [
    "for i in range(0,len(df)):\n",
    "    pred_hp_int, pred_hp_coef = 0, 0\n",
    "    for j in range(0, 10):\n",
    "        pred_hp_list = []\n",
    "        pred_hp_int = pred_hp_int + cv_intercepts[j]\n",
    "        pred_hp_coef = pred_hp_coef + cv_coefs[j][0]*df.loc[i,\"weight_kg\"]\n",
    "        for k in range(0, len(type_list)):\n",
    "            pred_hp_coef = pred_hp_coef + df.loc[i,type_list[k]]*cv_coefs[j][k+1]\n",
    "        pred_hp_list.append(pred_hp_coef + pred_hp_int)\n",
    "    df.loc[i,\"predicted_hp\"] = sum(pred_hp_list)/10"
   ]
  },
  {
   "cell_type": "code",
   "execution_count": null,
   "metadata": {},
   "outputs": [],
   "source": [
    "plt.style.use(\"seaborn-whitegrid\")\n",
    "plt.scatter(df[\"predicted_hp\"], df[\"hp\"], color=\"blue\")\n",
    "plt.xlabel(\"predicted HP\")\n",
    "plt.ylabel(\"actual HP\")\n",
    "plt.plot([0,255],[0,255], color=\"red\",linestyle=\"dashed\")\n",
    "plt.title(\"Predicted vs. Actual HP Values\")"
   ]
  },
  {
   "cell_type": "code",
   "execution_count": null,
   "metadata": {},
   "outputs": [],
   "source": [
    "g = sns.histplot((df[\"hp\"] - df[\"predicted_hp\"]),bins=60, color=\"blue\")\n",
    "g.set_title(\"Residuals\")"
   ]
  },
  {
   "cell_type": "code",
   "execution_count": null,
   "metadata": {},
   "outputs": [],
   "source": [
    "plt.style.use(\"seaborn-whitegrid\")\n",
    "plt.scatter(df[\"predicted_hp\"], (df[\"hp\"]-df[\"predicted_hp\"]), color=\"blue\")\n",
    "plt.xlabel(\"predicted HP\")\n",
    "plt.ylabel(\"residuals\")\n",
    "plt.title(\"Predicted HP vs. Residuals\")"
   ]
  },
  {
   "cell_type": "code",
   "execution_count": null,
   "metadata": {},
   "outputs": [],
   "source": [
    "print(\"Mean Absolute Error:\", round(metrics.mean_absolute_error(df[\"hp\"], df[\"predicted_hp\"]),3))\n",
    "print(\"Mean Squared Error:\", round(metrics.mean_squared_error(df[\"hp\"], df[\"predicted_hp\"]),3))\n",
    "print(\"Root Mean Squared Error:\", round(np.sqrt(metrics.mean_squared_error(df[\"hp\"], df[\"predicted_hp\"])),3))\n",
    "print(\"R2 Score:\", round(metrics.r2_score(df[\"hp\"], df[\"predicted_hp\"]),3))"
   ]
  }
 ],
 "metadata": {
  "kernelspec": {
   "display_name": "Python 3 (ipykernel)",
   "language": "python",
   "name": "python3"
  },
  "language_info": {
   "codemirror_mode": {
    "name": "ipython",
    "version": 3
   },
   "file_extension": ".py",
   "mimetype": "text/x-python",
   "name": "python",
   "nbconvert_exporter": "python",
   "pygments_lexer": "ipython3",
   "version": "3.11.5"
  }
 },
 "nbformat": 4,
 "nbformat_minor": 5
}
